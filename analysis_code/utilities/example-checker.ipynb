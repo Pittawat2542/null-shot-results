{
 "cells": [
  {
   "cell_type": "code",
   "id": "initial_id",
   "metadata": {
    "collapsed": true,
    "ExecuteTime": {
     "end_time": "2024-05-28T06:39:57.691966Z",
     "start_time": "2024-05-28T06:39:57.689623Z"
    }
   },
   "source": [
    "from pathlib import Path\n",
    "import json\n",
    "from tqdm import tqdm"
   ],
   "outputs": [],
   "execution_count": 34
  },
  {
   "metadata": {
    "ExecuteTime": {
     "end_time": "2024-05-28T06:39:57.865021Z",
     "start_time": "2024-05-28T06:39:57.862985Z"
    }
   },
   "cell_type": "code",
   "source": [
    "model = \"claude-3-haiku\"\n",
    "task = \"math-geometry\""
   ],
   "id": "8c8427a622aedd3c",
   "outputs": [],
   "execution_count": 35
  },
  {
   "metadata": {
    "ExecuteTime": {
     "end_time": "2024-05-28T06:39:58.036455Z",
     "start_time": "2024-05-28T06:39:58.034443Z"
    }
   },
   "cell_type": "code",
   "source": [
    "root_path = Path.cwd().parent.parent /  \"results\"\n",
    "result_path = root_path / model / task"
   ],
   "id": "2d8c82de420f588d",
   "outputs": [],
   "execution_count": 36
  },
  {
   "metadata": {
    "ExecuteTime": {
     "end_time": "2024-05-28T06:39:58.244302Z",
     "start_time": "2024-05-28T06:39:58.234906Z"
    }
   },
   "cell_type": "code",
   "source": [
    "baseline_files = list((result_path / \"zero-shot\").glob(\"*.json\"))\n",
    "null_shot_files = list((result_path / \"null-shot\").glob(\"*.json\"))\n",
    "baseline_files = [file for file in baseline_files if file.stem != \"summary\"]\n",
    "null_shot_files = [file for file in null_shot_files if file.stem != \"summary\"]\n",
    "zipped_files = list(zip(baseline_files, null_shot_files))"
   ],
   "id": "e3b7dc282a814d0b",
   "outputs": [],
   "execution_count": 37
  },
  {
   "metadata": {
    "ExecuteTime": {
     "end_time": "2024-05-28T06:39:58.544840Z",
     "start_time": "2024-05-28T06:39:58.426511Z"
    }
   },
   "cell_type": "code",
   "source": [
    "improved_files = []\n",
    "for baseline_file, null_shot_file in tqdm(zipped_files):\n",
    "    baseline = json.load(baseline_file.open())\n",
    "    null_shot = json.load(null_shot_file.open())\n",
    "    if baseline['is_correct'] == False and null_shot['is_correct'] == True:\n",
    "        improved_files.append((baseline_file, null_shot_file))"
   ],
   "id": "c3199c4dcdd89ccd",
   "outputs": [
    {
     "name": "stderr",
     "output_type": "stream",
     "text": [
      "100%|██████████| 479/479 [00:00<00:00, 4161.85it/s]\n"
     ]
    }
   ],
   "execution_count": 38
  },
  {
   "metadata": {
    "ExecuteTime": {
     "end_time": "2024-05-28T06:39:58.801462Z",
     "start_time": "2024-05-28T06:39:58.799692Z"
    }
   },
   "cell_type": "code",
   "source": "improved_files = sorted(improved_files, key=lambda x: int(x[0].stem))",
   "id": "a1d36892c28c9395",
   "outputs": [],
   "execution_count": 39
  },
  {
   "metadata": {
    "ExecuteTime": {
     "end_time": "2024-05-28T06:39:59.557712Z",
     "start_time": "2024-05-28T06:39:59.553141Z"
    }
   },
   "cell_type": "code",
   "source": "improved_files",
   "id": "8d5037bc12dbb65d",
   "outputs": [
    {
     "data": {
      "text/plain": [
       "[(PosixPath('/Users/pittawat/projects/null-shot-results/results/claude-3-haiku/math-geometry/zero-shot/14.json'),\n",
       "  PosixPath('/Users/pittawat/projects/null-shot-results/results/claude-3-haiku/math-geometry/null-shot/14.json')),\n",
       " (PosixPath('/Users/pittawat/projects/null-shot-results/results/claude-3-haiku/math-geometry/zero-shot/40.json'),\n",
       "  PosixPath('/Users/pittawat/projects/null-shot-results/results/claude-3-haiku/math-geometry/null-shot/40.json')),\n",
       " (PosixPath('/Users/pittawat/projects/null-shot-results/results/claude-3-haiku/math-geometry/zero-shot/55.json'),\n",
       "  PosixPath('/Users/pittawat/projects/null-shot-results/results/claude-3-haiku/math-geometry/null-shot/55.json')),\n",
       " (PosixPath('/Users/pittawat/projects/null-shot-results/results/claude-3-haiku/math-geometry/zero-shot/64.json'),\n",
       "  PosixPath('/Users/pittawat/projects/null-shot-results/results/claude-3-haiku/math-geometry/null-shot/64.json')),\n",
       " (PosixPath('/Users/pittawat/projects/null-shot-results/results/claude-3-haiku/math-geometry/zero-shot/77.json'),\n",
       "  PosixPath('/Users/pittawat/projects/null-shot-results/results/claude-3-haiku/math-geometry/null-shot/77.json')),\n",
       " (PosixPath('/Users/pittawat/projects/null-shot-results/results/claude-3-haiku/math-geometry/zero-shot/84.json'),\n",
       "  PosixPath('/Users/pittawat/projects/null-shot-results/results/claude-3-haiku/math-geometry/null-shot/84.json')),\n",
       " (PosixPath('/Users/pittawat/projects/null-shot-results/results/claude-3-haiku/math-geometry/zero-shot/104.json'),\n",
       "  PosixPath('/Users/pittawat/projects/null-shot-results/results/claude-3-haiku/math-geometry/null-shot/104.json')),\n",
       " (PosixPath('/Users/pittawat/projects/null-shot-results/results/claude-3-haiku/math-geometry/zero-shot/109.json'),\n",
       "  PosixPath('/Users/pittawat/projects/null-shot-results/results/claude-3-haiku/math-geometry/null-shot/109.json')),\n",
       " (PosixPath('/Users/pittawat/projects/null-shot-results/results/claude-3-haiku/math-geometry/zero-shot/139.json'),\n",
       "  PosixPath('/Users/pittawat/projects/null-shot-results/results/claude-3-haiku/math-geometry/null-shot/139.json')),\n",
       " (PosixPath('/Users/pittawat/projects/null-shot-results/results/claude-3-haiku/math-geometry/zero-shot/140.json'),\n",
       "  PosixPath('/Users/pittawat/projects/null-shot-results/results/claude-3-haiku/math-geometry/null-shot/140.json')),\n",
       " (PosixPath('/Users/pittawat/projects/null-shot-results/results/claude-3-haiku/math-geometry/zero-shot/163.json'),\n",
       "  PosixPath('/Users/pittawat/projects/null-shot-results/results/claude-3-haiku/math-geometry/null-shot/163.json')),\n",
       " (PosixPath('/Users/pittawat/projects/null-shot-results/results/claude-3-haiku/math-geometry/zero-shot/206.json'),\n",
       "  PosixPath('/Users/pittawat/projects/null-shot-results/results/claude-3-haiku/math-geometry/null-shot/206.json')),\n",
       " (PosixPath('/Users/pittawat/projects/null-shot-results/results/claude-3-haiku/math-geometry/zero-shot/238.json'),\n",
       "  PosixPath('/Users/pittawat/projects/null-shot-results/results/claude-3-haiku/math-geometry/null-shot/238.json')),\n",
       " (PosixPath('/Users/pittawat/projects/null-shot-results/results/claude-3-haiku/math-geometry/zero-shot/240.json'),\n",
       "  PosixPath('/Users/pittawat/projects/null-shot-results/results/claude-3-haiku/math-geometry/null-shot/240.json')),\n",
       " (PosixPath('/Users/pittawat/projects/null-shot-results/results/claude-3-haiku/math-geometry/zero-shot/246.json'),\n",
       "  PosixPath('/Users/pittawat/projects/null-shot-results/results/claude-3-haiku/math-geometry/null-shot/246.json')),\n",
       " (PosixPath('/Users/pittawat/projects/null-shot-results/results/claude-3-haiku/math-geometry/zero-shot/260.json'),\n",
       "  PosixPath('/Users/pittawat/projects/null-shot-results/results/claude-3-haiku/math-geometry/null-shot/260.json')),\n",
       " (PosixPath('/Users/pittawat/projects/null-shot-results/results/claude-3-haiku/math-geometry/zero-shot/278.json'),\n",
       "  PosixPath('/Users/pittawat/projects/null-shot-results/results/claude-3-haiku/math-geometry/null-shot/278.json')),\n",
       " (PosixPath('/Users/pittawat/projects/null-shot-results/results/claude-3-haiku/math-geometry/zero-shot/282.json'),\n",
       "  PosixPath('/Users/pittawat/projects/null-shot-results/results/claude-3-haiku/math-geometry/null-shot/282.json')),\n",
       " (PosixPath('/Users/pittawat/projects/null-shot-results/results/claude-3-haiku/math-geometry/zero-shot/289.json'),\n",
       "  PosixPath('/Users/pittawat/projects/null-shot-results/results/claude-3-haiku/math-geometry/null-shot/289.json')),\n",
       " (PosixPath('/Users/pittawat/projects/null-shot-results/results/claude-3-haiku/math-geometry/zero-shot/297.json'),\n",
       "  PosixPath('/Users/pittawat/projects/null-shot-results/results/claude-3-haiku/math-geometry/null-shot/297.json')),\n",
       " (PosixPath('/Users/pittawat/projects/null-shot-results/results/claude-3-haiku/math-geometry/zero-shot/305.json'),\n",
       "  PosixPath('/Users/pittawat/projects/null-shot-results/results/claude-3-haiku/math-geometry/null-shot/305.json')),\n",
       " (PosixPath('/Users/pittawat/projects/null-shot-results/results/claude-3-haiku/math-geometry/zero-shot/307.json'),\n",
       "  PosixPath('/Users/pittawat/projects/null-shot-results/results/claude-3-haiku/math-geometry/null-shot/307.json')),\n",
       " (PosixPath('/Users/pittawat/projects/null-shot-results/results/claude-3-haiku/math-geometry/zero-shot/308.json'),\n",
       "  PosixPath('/Users/pittawat/projects/null-shot-results/results/claude-3-haiku/math-geometry/null-shot/308.json')),\n",
       " (PosixPath('/Users/pittawat/projects/null-shot-results/results/claude-3-haiku/math-geometry/zero-shot/351.json'),\n",
       "  PosixPath('/Users/pittawat/projects/null-shot-results/results/claude-3-haiku/math-geometry/null-shot/351.json')),\n",
       " (PosixPath('/Users/pittawat/projects/null-shot-results/results/claude-3-haiku/math-geometry/zero-shot/355.json'),\n",
       "  PosixPath('/Users/pittawat/projects/null-shot-results/results/claude-3-haiku/math-geometry/null-shot/355.json')),\n",
       " (PosixPath('/Users/pittawat/projects/null-shot-results/results/claude-3-haiku/math-geometry/zero-shot/375.json'),\n",
       "  PosixPath('/Users/pittawat/projects/null-shot-results/results/claude-3-haiku/math-geometry/null-shot/375.json')),\n",
       " (PosixPath('/Users/pittawat/projects/null-shot-results/results/claude-3-haiku/math-geometry/zero-shot/381.json'),\n",
       "  PosixPath('/Users/pittawat/projects/null-shot-results/results/claude-3-haiku/math-geometry/null-shot/381.json')),\n",
       " (PosixPath('/Users/pittawat/projects/null-shot-results/results/claude-3-haiku/math-geometry/zero-shot/382.json'),\n",
       "  PosixPath('/Users/pittawat/projects/null-shot-results/results/claude-3-haiku/math-geometry/null-shot/382.json')),\n",
       " (PosixPath('/Users/pittawat/projects/null-shot-results/results/claude-3-haiku/math-geometry/zero-shot/386.json'),\n",
       "  PosixPath('/Users/pittawat/projects/null-shot-results/results/claude-3-haiku/math-geometry/null-shot/386.json')),\n",
       " (PosixPath('/Users/pittawat/projects/null-shot-results/results/claude-3-haiku/math-geometry/zero-shot/401.json'),\n",
       "  PosixPath('/Users/pittawat/projects/null-shot-results/results/claude-3-haiku/math-geometry/null-shot/401.json')),\n",
       " (PosixPath('/Users/pittawat/projects/null-shot-results/results/claude-3-haiku/math-geometry/zero-shot/409.json'),\n",
       "  PosixPath('/Users/pittawat/projects/null-shot-results/results/claude-3-haiku/math-geometry/null-shot/409.json')),\n",
       " (PosixPath('/Users/pittawat/projects/null-shot-results/results/claude-3-haiku/math-geometry/zero-shot/417.json'),\n",
       "  PosixPath('/Users/pittawat/projects/null-shot-results/results/claude-3-haiku/math-geometry/null-shot/417.json')),\n",
       " (PosixPath('/Users/pittawat/projects/null-shot-results/results/claude-3-haiku/math-geometry/zero-shot/421.json'),\n",
       "  PosixPath('/Users/pittawat/projects/null-shot-results/results/claude-3-haiku/math-geometry/null-shot/421.json')),\n",
       " (PosixPath('/Users/pittawat/projects/null-shot-results/results/claude-3-haiku/math-geometry/zero-shot/458.json'),\n",
       "  PosixPath('/Users/pittawat/projects/null-shot-results/results/claude-3-haiku/math-geometry/null-shot/458.json'))]"
      ]
     },
     "execution_count": 40,
     "metadata": {},
     "output_type": "execute_result"
    }
   ],
   "execution_count": 40
  },
  {
   "metadata": {},
   "cell_type": "code",
   "outputs": [],
   "execution_count": null,
   "source": "",
   "id": "8f46c27805dbb371"
  }
 ],
 "metadata": {
  "kernelspec": {
   "display_name": "Python 3",
   "language": "python",
   "name": "python3"
  },
  "language_info": {
   "codemirror_mode": {
    "name": "ipython",
    "version": 2
   },
   "file_extension": ".py",
   "mimetype": "text/x-python",
   "name": "python",
   "nbconvert_exporter": "python",
   "pygments_lexer": "ipython2",
   "version": "2.7.6"
  }
 },
 "nbformat": 4,
 "nbformat_minor": 5
}
