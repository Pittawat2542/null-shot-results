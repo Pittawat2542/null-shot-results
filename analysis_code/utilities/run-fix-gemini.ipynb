{
 "cells": [
  {
   "cell_type": "code",
   "execution_count": 24,
   "id": "initial_id",
   "metadata": {
    "collapsed": true,
    "ExecuteTime": {
     "end_time": "2024-02-11T11:49:36.565546Z",
     "start_time": "2024-02-11T11:49:36.562360Z"
    }
   },
   "source": [
    "import json\n",
    "from pathlib import Path\n",
    "from tqdm import tqdm\n",
    "from loguru import logger"
   ],
   "outputs": []
  },
  {
   "cell_type": "code",
   "source": [
    "logger.add(\"logs/{time}.log\")"
   ],
   "metadata": {
    "collapsed": false,
    "ExecuteTime": {
     "end_time": "2024-02-11T11:49:39.364357Z",
     "start_time": "2024-02-11T11:49:39.350368Z"
    }
   },
   "id": "819916dfb0399427",
   "execution_count": 25,
   "outputs": []
  },
  {
   "cell_type": "code",
   "source": [
    "root_path = Path(\"results\")\n",
    "model_paths = [root_path / \"gemini-pro-text\", root_path / \"gemini-pro-chat\"]"
   ],
   "metadata": {
    "collapsed": false,
    "ExecuteTime": {
     "end_time": "2024-02-11T11:49:40.027621Z",
     "start_time": "2024-02-11T11:49:40.023913Z"
    }
   },
   "id": "c4a812a35e08c591",
   "execution_count": 26,
   "outputs": []
  },
  {
   "cell_type": "code",
   "source": [
    "for model_path in tqdm(model_paths):\n",
    "    task_paths = [task for task in model_path.iterdir() if task.is_dir()]\n",
    "    for task_path in tqdm(task_paths):\n",
    "        pe_paths = [pe for pe in task_path.iterdir() if pe.is_dir()]\n",
    "        for pe_path in tqdm(pe_paths):\n",
    "            files = list(pe_path.glob(\"*.json\"))\n",
    "            files = [file for file in files if \"summary\" not in file.name]\n",
    "            for file in tqdm(files):\n",
    "                with open(file, \"r\") as f:\n",
    "                    data = json.load(f)\n",
    "\n",
    "                if \"finish_reason: SAFETY\" in data[\"response\"] or \"block_reason: SAFETY\" in data[\"response\"]:\n",
    "                    logger.info(f\"Correcting {file} with {data['response']}\")\n",
    "                    data[\"response\"] = \"\"\n",
    "                    \n",
    "                    with open(file, \"w\") as f:\n",
    "                        json.dump(data, f, indent=4)"
   ],
   "metadata": {
    "collapsed": false,
    "ExecuteTime": {
     "end_time": "2024-02-11T11:49:53.582730Z",
     "start_time": "2024-02-11T11:49:41.115606Z"
    }
   },
   "id": "3c8bf509c45d237c",
   "execution_count": 27,
   "outputs": []
  }
 ],
 "metadata": {
  "kernelspec": {
   "display_name": "Python 3",
   "language": "python",
   "name": "python3"
  },
  "language_info": {
   "codemirror_mode": {
    "name": "ipython",
    "version": 2
   },
   "file_extension": ".py",
   "mimetype": "text/x-python",
   "name": "python",
   "nbconvert_exporter": "python",
   "pygments_lexer": "ipython2",
   "version": "2.7.6"
  }
 },
 "nbformat": 4,
 "nbformat_minor": 5
}
