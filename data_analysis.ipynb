{
 "cells": [
  {
   "cell_type": "code",
   "execution_count": 1,
   "id": "initial_id",
   "metadata": {
    "collapsed": true,
    "ExecuteTime": {
     "end_time": "2023-11-28T13:10:57.022076Z",
     "start_time": "2023-11-28T13:10:56.281249Z"
    }
   },
   "outputs": [],
   "source": [
    "import os\n",
    "import json\n",
    "import pandas as pd\n",
    "from pathlib import Path"
   ]
  },
  {
   "cell_type": "code",
   "execution_count": 2,
   "outputs": [],
   "source": [
    "result_path = Path(os.getcwd()) / \"results\""
   ],
   "metadata": {
    "collapsed": false,
    "ExecuteTime": {
     "end_time": "2023-11-28T13:10:57.029577Z",
     "start_time": "2023-11-28T13:10:56.965370Z"
    }
   },
   "id": "ecb295f0d54c9926"
  },
  {
   "cell_type": "code",
   "execution_count": 3,
   "outputs": [],
   "source": [
    "result_summary = {}\n",
    "summary_file_name = \"summary.json\""
   ],
   "metadata": {
    "collapsed": false,
    "ExecuteTime": {
     "end_time": "2023-11-28T13:10:57.030216Z",
     "start_time": "2023-11-28T13:10:56.970870Z"
    }
   },
   "id": "1b6bae9266826f04"
  },
  {
   "cell_type": "code",
   "execution_count": 4,
   "outputs": [],
   "source": [
    "for llm in os.listdir(result_path):\n",
    "    if os.path.isdir(result_path / llm):\n",
    "        result_summary[llm] = {}\n",
    "        for task in os.listdir(result_path / llm):\n",
    "            if os.path.isdir(result_path / llm / task):\n",
    "                result_summary[llm][task] = {}\n",
    "                for pe in os.listdir(result_path / llm / task):\n",
    "                    if os.path.isdir(result_path / llm / task / pe):\n",
    "                        result_summary[llm][task][pe] = {}\n",
    "                        files = [file for file in os.listdir(result_path / llm / task / pe) if\n",
    "                                 file != summary_file_name and file != \".DS_Store\"]\n",
    "                        with open(result_path / llm / task / pe / summary_file_name, \"r\") as f:\n",
    "                            result_summary[llm][task][pe] = json.load(f)"
   ],
   "metadata": {
    "collapsed": false,
    "ExecuteTime": {
     "end_time": "2023-11-28T13:10:57.120079Z",
     "start_time": "2023-11-28T13:10:57.009092Z"
    }
   },
   "id": "284bfa6896de3d44"
  },
  {
   "cell_type": "code",
   "execution_count": 5,
   "outputs": [
    {
     "data": {
      "text/plain": "{'palm-2-chat': {'anli': {'zero-shot': {'model': 'palm-2-chat',\n    'task': 'anli',\n    'pe_technique': 'zero-shot',\n    'current_index': 1200,\n    'is_processing': False,\n    'correct': 484,\n    'total': 1200,\n    'accuracy': 40.33333333333333,\n    'created_at': '2023-11-25-22-02-34'},\n   'null-shot-cot': {'model': 'palm-2-chat',\n    'task': 'anli',\n    'pe_technique': 'null-shot-cot',\n    'current_index': 1200,\n    'is_processing': False,\n    'correct': 379,\n    'total': 1200,\n    'accuracy': 31.583333333333336,\n    'created_at': '2023-11-26-02-08-54'},\n   'zero-shot-cot': {'model': 'palm-2-chat',\n    'task': 'anli',\n    'pe_technique': 'zero-shot-cot',\n    'current_index': 1200,\n    'is_processing': False,\n    'correct': 265,\n    'total': 1200,\n    'accuracy': 22.083333333333332,\n    'created_at': '2023-11-26-00-44-52'},\n   'null-shot': {'model': 'palm-2-chat',\n    'task': 'anli',\n    'pe_technique': 'null-shot',\n    'current_index': 1200,\n    'is_processing': False,\n    'correct': 492,\n    'total': 1200,\n    'accuracy': 41.0,\n    'created_at': '2023-11-25-23-20-14'}},\n  'strategyqa': {'zero-shot': {'model': 'palm-2-chat',\n    'task': 'strategyqa',\n    'pe_technique': 'zero-shot',\n    'current_index': 2290,\n    'is_processing': False,\n    'correct': 1300,\n    'total': 2290,\n    'accuracy': 56.76855895196506,\n    'created_at': '2023-11-20-18-25-26'},\n   'null-shot-cot': {'model': 'palm-2-chat',\n    'task': 'strategyqa',\n    'pe_technique': 'null-shot-cot',\n    'current_index': 2290,\n    'is_processing': False,\n    'correct': 1303,\n    'total': 2290,\n    'accuracy': 56.89956331877729,\n    'created_at': '2023-11-21-02-51-25'},\n   'zero-shot-cot': {'model': 'palm-2-chat',\n    'task': 'strategyqa',\n    'pe_technique': 'zero-shot-cot',\n    'current_index': 2290,\n    'is_processing': False,\n    'correct': 1124,\n    'total': 2290,\n    'accuracy': 49.082969432314414,\n    'created_at': '2023-11-21-00-06-56'},\n   'null-shot': {'model': 'palm-2-chat',\n    'task': 'strategyqa',\n    'pe_technique': 'null-shot',\n    'current_index': 2290,\n    'is_processing': False,\n    'correct': 1323,\n    'total': 2290,\n    'accuracy': 57.77292576419214,\n    'created_at': '2023-11-20-21-17-17'}},\n  'winogrande': {'zero-shot': {'model': 'palm-2-chat',\n    'task': 'winogrande',\n    'pe_technique': 'zero-shot',\n    'current_index': 1267,\n    'is_processing': False,\n    'correct': 717,\n    'total': 1267,\n    'accuracy': 56.590370955011835,\n    'created_at': '2023-11-26-19-10-26'},\n   'null-shot-cot': {'model': 'palm-2-chat',\n    'task': 'winogrande',\n    'pe_technique': 'null-shot-cot',\n    'current_index': 1267,\n    'is_processing': False,\n    'correct': 724,\n    'total': 1267,\n    'accuracy': 57.14285714285714,\n    'created_at': '2023-11-26-22-25-59'},\n   'zero-shot-cot': {'model': 'palm-2-chat',\n    'task': 'winogrande',\n    'pe_technique': 'zero-shot-cot',\n    'current_index': 1267,\n    'is_processing': False,\n    'correct': 757,\n    'total': 1267,\n    'accuracy': 59.74743488555643,\n    'created_at': '2023-11-26-21-18-54'},\n   'null-shot': {'model': 'palm-2-chat',\n    'task': 'winogrande',\n    'pe_technique': 'null-shot',\n    'current_index': 1267,\n    'is_processing': False,\n    'correct': 767,\n    'total': 1267,\n    'accuracy': 60.53670086819258,\n    'created_at': '2023-11-26-20-07-17'}},\n  'wmt-en-ja': {'zero-shot': {'model': 'palm-2-chat',\n    'task': 'wmt-en-ja',\n    'pe_technique': 'zero-shot',\n    'current_index': 1000,\n    'is_processing': False,\n    'correct': 3,\n    'total': 1000,\n    'accuracy': 0.3,\n    'created_at': '2023-11-28-00-35-03'},\n   'null-shot-cot': {'model': 'palm-2-chat',\n    'task': 'wmt-en-ja',\n    'pe_technique': 'null-shot-cot',\n    'current_index': 1000,\n    'is_processing': False,\n    'correct': 1,\n    'total': 1000,\n    'accuracy': 0.1,\n    'created_at': '2023-11-28-04-36-20'},\n   'zero-shot-cot': {'model': 'palm-2-chat',\n    'task': 'wmt-en-ja',\n    'pe_technique': 'zero-shot-cot',\n    'current_index': 1000,\n    'is_processing': False,\n    'correct': 0,\n    'total': 1000,\n    'accuracy': 0.0,\n    'created_at': '2023-11-28-03-08-31'},\n   'null-shot': {'model': 'palm-2-chat',\n    'task': 'wmt-en-ja',\n    'pe_technique': 'null-shot',\n    'current_index': 1000,\n    'is_processing': False,\n    'correct': 13,\n    'total': 1000,\n    'accuracy': 1.3,\n    'created_at': '2023-11-28-01-41-18'}},\n  'aqua': {'zero-shot': {'model': 'palm-2-chat',\n    'task': 'aqua',\n    'pe_technique': 'zero-shot',\n    'current_index': 254,\n    'is_processing': False,\n    'correct': 35,\n    'total': 254,\n    'accuracy': 13.779527559055119,\n    'created_at': '2023-11-19-15-41-54'},\n   'null-shot-cot': {'model': 'palm-2-chat',\n    'task': 'aqua',\n    'pe_technique': 'null-shot-cot',\n    'current_index': 254,\n    'is_processing': False,\n    'correct': 25,\n    'total': 254,\n    'accuracy': 9.84251968503937,\n    'created_at': '2023-11-20-10-06-09'},\n   'zero-shot-cot': {'model': 'palm-2-chat',\n    'task': 'aqua',\n    'pe_technique': 'zero-shot-cot',\n    'current_index': 254,\n    'is_processing': False,\n    'correct': 28,\n    'total': 254,\n    'accuracy': 11.023622047244094,\n    'created_at': '2023-11-20-09-47-33'},\n   'null-shot': {'model': 'palm-2-chat',\n    'task': 'aqua',\n    'pe_technique': 'null-shot',\n    'current_index': 254,\n    'is_processing': False,\n    'correct': 37,\n    'total': 254,\n    'accuracy': 14.566929133858267,\n    'created_at': '2023-11-19-16-00-23'}},\n  'race-h': {'zero-shot': {'model': 'palm-2-chat',\n    'task': 'race-h',\n    'pe_technique': 'zero-shot',\n    'current_index': 3498,\n    'is_processing': False,\n    'correct': 1822,\n    'total': 3498,\n    'accuracy': 52.086906803887935,\n    'created_at': '2023-11-22-21-12-47'},\n   'null-shot-cot': {'model': 'palm-2-chat',\n    'task': 'race-h',\n    'pe_technique': 'null-shot-cot',\n    'current_index': 3498,\n    'is_processing': False,\n    'correct': 1825,\n    'total': 3498,\n    'accuracy': 52.172670097198406,\n    'created_at': '2023-11-23-09-52-06'},\n   'zero-shot-cot': {'model': 'palm-2-chat',\n    'task': 'race-h',\n    'pe_technique': 'zero-shot-cot',\n    'current_index': 3498,\n    'is_processing': False,\n    'correct': 1779,\n    'total': 3498,\n    'accuracy': 50.85763293310463,\n    'created_at': '2023-11-23-05-27-13'},\n   'null-shot': {'model': 'palm-2-chat',\n    'task': 'race-h',\n    'pe_technique': 'null-shot',\n    'current_index': 3498,\n    'is_processing': False,\n    'correct': 1717,\n    'total': 3498,\n    'accuracy': 49.085191538021725,\n    'created_at': '2023-11-23-01-20-17'}}},\n 'llama-2-chat-7b': {'strategyqa': {'zero-shot': {'model': 'llama-2-chat-7b',\n    'task': 'strategyqa',\n    'pe_technique': 'zero-shot',\n    'current_index': 2290,\n    'is_processing': False,\n    'correct': 1208,\n    'total': 2290,\n    'accuracy': 52.75109170305677,\n    'created_at': '2023-11-21-11-43-08'},\n   'null-shot': {'model': 'llama-2-chat-7b',\n    'task': 'strategyqa',\n    'pe_technique': 'null-shot',\n    'current_index': 2290,\n    'is_processing': False,\n    'correct': 1137,\n    'total': 2290,\n    'accuracy': 49.65065502183406,\n    'created_at': '2023-11-21-13-52-06'}},\n  'aqua': {'zero-shot': {'model': 'llama-2-chat-7b',\n    'task': 'aqua',\n    'pe_technique': 'zero-shot',\n    'current_index': 254,\n    'is_processing': False,\n    'correct': 59,\n    'total': 254,\n    'accuracy': 23.228346456692915,\n    'created_at': '2023-11-20-13-01-33'},\n   'null-shot': {'model': 'llama-2-chat-7b',\n    'task': 'aqua',\n    'pe_technique': 'null-shot',\n    'current_index': 254,\n    'is_processing': False,\n    'correct': 62,\n    'total': 254,\n    'accuracy': 24.409448818897637,\n    'created_at': '2023-11-20-13-22-42'}}},\n 'palm-2-text': {'anli': {'zero-shot': {'model': 'palm-2-text',\n    'task': 'anli',\n    'pe_technique': 'zero-shot',\n    'current_index': 1200,\n    'is_processing': False,\n    'correct': 590,\n    'total': 1200,\n    'accuracy': 49.166666666666664,\n    'created_at': '2023-11-24-19-12-05'},\n   'null-shot-cot': {'model': 'palm-2-text',\n    'task': 'anli',\n    'pe_technique': 'null-shot-cot',\n    'current_index': 1200,\n    'is_processing': False,\n    'correct': 585,\n    'total': 1200,\n    'accuracy': 48.75,\n    'created_at': '2023-11-25-21-39-25'},\n   'zero-shot-cot': {'model': 'palm-2-text',\n    'task': 'anli',\n    'pe_technique': 'zero-shot-cot',\n    'current_index': 1200,\n    'is_processing': False,\n    'correct': 589,\n    'total': 1200,\n    'accuracy': 49.083333333333336,\n    'created_at': '2023-11-25-21-16-42'},\n   'null-shot': {'model': 'palm-2-text',\n    'task': 'anli',\n    'pe_technique': 'null-shot',\n    'current_index': 1200,\n    'is_processing': False,\n    'correct': 606,\n    'total': 1200,\n    'accuracy': 50.5,\n    'created_at': '2023-11-25-20-53-45'}},\n  'strategyqa': {'zero-shot': {'model': 'palm-2-text',\n    'task': 'strategyqa',\n    'pe_technique': 'zero-shot',\n    'current_index': 2290,\n    'is_processing': False,\n    'correct': 1370,\n    'total': 2290,\n    'accuracy': 59.82532751091703,\n    'created_at': '2023-11-20-15-34-01'},\n   'null-shot-cot': {'model': 'palm-2-text',\n    'task': 'strategyqa',\n    'pe_technique': 'null-shot-cot',\n    'current_index': 2290,\n    'is_processing': False,\n    'correct': 1359,\n    'total': 2290,\n    'accuracy': 59.34497816593887,\n    'created_at': '2023-11-20-17-42-51'},\n   'zero-shot-cot': {'model': 'palm-2-text',\n    'task': 'strategyqa',\n    'pe_technique': 'zero-shot-cot',\n    'current_index': 2290,\n    'is_processing': False,\n    'correct': 1432,\n    'total': 2290,\n    'accuracy': 62.532751091703055,\n    'created_at': '2023-11-20-16-59-58'},\n   'null-shot': {'model': 'palm-2-text',\n    'task': 'strategyqa',\n    'pe_technique': 'null-shot',\n    'current_index': 2290,\n    'is_processing': False,\n    'correct': 1520,\n    'total': 2290,\n    'accuracy': 66.37554585152839,\n    'created_at': '2023-11-20-16-17-16'}},\n  'winogrande': {'zero-shot': {'model': 'palm-2-text',\n    'task': 'winogrande',\n    'pe_technique': 'zero-shot',\n    'current_index': 1267,\n    'is_processing': False,\n    'correct': 656,\n    'total': 1267,\n    'accuracy': 51.77584846093133,\n    'created_at': '2023-11-26-17-30-39'},\n   'null-shot-cot': {'model': 'palm-2-text',\n    'task': 'winogrande',\n    'pe_technique': 'null-shot-cot',\n    'current_index': 1267,\n    'is_processing': False,\n    'correct': 5,\n    'total': 1267,\n    'accuracy': 0.3946329913180742,\n    'created_at': '2023-11-26-18-45-35'},\n   'zero-shot-cot': {'model': 'palm-2-text',\n    'task': 'winogrande',\n    'pe_technique': 'zero-shot-cot',\n    'current_index': 1267,\n    'is_processing': False,\n    'correct': 226,\n    'total': 1267,\n    'accuracy': 17.837411207576952,\n    'created_at': '2023-11-26-18-20-47'},\n   'null-shot': {'model': 'palm-2-text',\n    'task': 'winogrande',\n    'pe_technique': 'null-shot',\n    'current_index': 1267,\n    'is_processing': False,\n    'correct': 752,\n    'total': 1267,\n    'accuracy': 59.35280189423836,\n    'created_at': '2023-11-26-17-56-32'}},\n  'wmt-en-ja': {'zero-shot': {'model': 'palm-2-text',\n    'task': 'wmt-en-ja',\n    'pe_technique': 'zero-shot',\n    'current_index': 1000,\n    'is_processing': False,\n    'correct': 203,\n    'total': 1000,\n    'accuracy': 20.3,\n    'created_at': '2023-11-27-23-09-30'},\n   'null-shot-cot': {'model': 'palm-2-text',\n    'task': 'wmt-en-ja',\n    'pe_technique': 'null-shot-cot',\n    'current_index': 1000,\n    'is_processing': False,\n    'correct': 0,\n    'total': 1000,\n    'accuracy': 0.0,\n    'created_at': '2023-11-28-00-14-12'},\n   'zero-shot-cot': {'model': 'palm-2-text',\n    'task': 'wmt-en-ja',\n    'pe_technique': 'zero-shot-cot',\n    'current_index': 1000,\n    'is_processing': False,\n    'correct': 61,\n    'total': 1000,\n    'accuracy': 6.1,\n    'created_at': '2023-11-27-23-51-20'},\n   'null-shot': {'model': 'palm-2-text',\n    'task': 'wmt-en-ja',\n    'pe_technique': 'null-shot',\n    'current_index': 1000,\n    'is_processing': False,\n    'correct': 198,\n    'total': 1000,\n    'accuracy': 19.8,\n    'created_at': '2023-11-27-23-30-48'}},\n  'aqua': {'zero-shot': {'model': 'palm-2-text',\n    'task': 'aqua',\n    'pe_technique': 'zero-shot',\n    'current_index': 254,\n    'is_processing': False,\n    'correct': 74,\n    'total': 254,\n    'accuracy': 29.133858267716533,\n    'created_at': '2023-11-19-16-21-33'},\n   'null-shot-cot': {'model': 'palm-2-text',\n    'task': 'aqua',\n    'pe_technique': 'null-shot-cot',\n    'current_index': 254,\n    'is_processing': False,\n    'correct': 11,\n    'total': 254,\n    'accuracy': 4.330708661417323,\n    'created_at': '2023-11-20-09-42-14'},\n   'zero-shot-cot': {'model': 'palm-2-text',\n    'task': 'aqua',\n    'pe_technique': 'zero-shot-cot',\n    'current_index': 254,\n    'is_processing': False,\n    'correct': 25,\n    'total': 254,\n    'accuracy': 9.84251968503937,\n    'created_at': '2023-11-20-09-37-01'},\n   'null-shot': {'model': 'palm-2-text',\n    'task': 'aqua',\n    'pe_technique': 'null-shot',\n    'current_index': 254,\n    'is_processing': False,\n    'correct': 72,\n    'total': 254,\n    'accuracy': 28.346456692913385,\n    'created_at': '2023-11-19-16-26-26'}},\n  'race-h': {'zero-shot': {'model': 'palm-2-text',\n    'task': 'race-h',\n    'pe_technique': 'zero-shot',\n    'current_index': 3498,\n    'is_processing': False,\n    'correct': 2503,\n    'total': 3498,\n    'accuracy': 71.55517438536306,\n    'created_at': '2023-11-22-11-47-44'},\n   'null-shot-cot': {'model': 'palm-2-text',\n    'task': 'race-h',\n    'pe_technique': 'null-shot-cot',\n    'current_index': 3498,\n    'is_processing': False,\n    'correct': 2528,\n    'total': 3498,\n    'accuracy': 72.26986849628359,\n    'created_at': '2023-11-22-18-10-25'},\n   'zero-shot-cot': {'model': 'palm-2-text',\n    'task': 'race-h',\n    'pe_technique': 'zero-shot-cot',\n    'current_index': 3498,\n    'is_processing': False,\n    'correct': 876,\n    'total': 3498,\n    'accuracy': 25.04288164665523,\n    'created_at': '2023-11-22-16-36-16'},\n   'null-shot': {'model': 'palm-2-text',\n    'task': 'race-h',\n    'pe_technique': 'null-shot',\n    'current_index': 3498,\n    'is_processing': False,\n    'correct': 2595,\n    'total': 3498,\n    'accuracy': 74.1852487135506,\n    'created_at': '2023-11-22-13-05-12'}}},\n 'llama-2-7b': {'strategyqa': {'zero-shot': {'model': 'llama-2-7b',\n    'task': 'strategyqa',\n    'pe_technique': 'zero-shot',\n    'current_index': 2290,\n    'is_processing': False,\n    'correct': 1167,\n    'total': 2290,\n    'accuracy': 50.96069868995633,\n    'created_at': '2023-11-21-16-36-28'},\n   'null-shot': {'model': 'llama-2-7b',\n    'task': 'strategyqa',\n    'pe_technique': 'null-shot',\n    'current_index': 2290,\n    'is_processing': False,\n    'correct': 1164,\n    'total': 2290,\n    'accuracy': 50.8296943231441,\n    'created_at': '2023-11-24-21-50-33'}},\n  'aqua': {'zero-shot': {'model': 'llama-2-7b',\n    'task': 'aqua',\n    'pe_technique': 'zero-shot',\n    'current_index': 254,\n    'is_processing': False,\n    'correct': 65,\n    'total': 254,\n    'accuracy': 25.590551181102363,\n    'created_at': '2023-11-20-13-50-22'},\n   'null-shot': {'model': 'llama-2-7b',\n    'task': 'aqua',\n    'pe_technique': 'null-shot',\n    'current_index': 254,\n    'is_processing': False,\n    'correct': 53,\n    'total': 254,\n    'accuracy': 20.866141732283463,\n    'created_at': '2023-11-20-21-36-25'}}},\n 'gpt-4-turbo': {'anli': {'zero-shot': {'model': 'gpt-4-turbo',\n    'task': 'anli',\n    'pe_technique': 'zero-shot',\n    'current_index': 1200,\n    'is_processing': False,\n    'correct': 770,\n    'total': 1200,\n    'accuracy': 64.16666666666667,\n    'created_at': '2023-11-26-07-48-10'},\n   'null-shot-cot': {'model': 'gpt-4-turbo',\n    'task': 'anli',\n    'pe_technique': 'null-shot-cot',\n    'current_index': 1200,\n    'is_processing': False,\n    'correct': 571,\n    'total': 1200,\n    'accuracy': 47.583333333333336,\n    'created_at': '2023-11-26-12-25-11'},\n   'zero-shot-cot': {'model': 'gpt-4-turbo',\n    'task': 'anli',\n    'pe_technique': 'zero-shot-cot',\n    'current_index': 1200,\n    'is_processing': False,\n    'correct': 626,\n    'total': 1200,\n    'accuracy': 52.166666666666664,\n    'created_at': '2023-11-26-09-32-44'},\n   'null-shot': {'model': 'gpt-4-turbo',\n    'task': 'anli',\n    'pe_technique': 'null-shot',\n    'current_index': 1200,\n    'is_processing': False,\n    'correct': 768,\n    'total': 1200,\n    'accuracy': 64.0,\n    'created_at': '2023-11-26-08-41-54'}},\n  'strategyqa': {'zero-shot': {'model': 'gpt-4-turbo',\n    'task': 'strategyqa',\n    'pe_technique': 'zero-shot',\n    'current_index': 2290,\n    'is_processing': False,\n    'correct': 1714,\n    'total': 2290,\n    'accuracy': 74.8471615720524,\n    'created_at': '2023-11-21-15-01-16'},\n   'null-shot-cot': {'model': 'gpt-4-turbo',\n    'task': 'strategyqa',\n    'pe_technique': 'null-shot-cot',\n    'current_index': 2290,\n    'is_processing': False,\n    'correct': 1419,\n    'total': 2290,\n    'accuracy': 61.9650655021834,\n    'created_at': '2023-11-22-06-24-41'},\n   'zero-shot-cot': {'model': 'gpt-4-turbo',\n    'task': 'strategyqa',\n    'pe_technique': 'zero-shot-cot',\n    'current_index': 2290,\n    'is_processing': False,\n    'correct': 1453,\n    'total': 2290,\n    'accuracy': 63.44978165938865,\n    'created_at': '2023-11-22-00-09-24'},\n   'null-shot': {'model': 'gpt-4-turbo',\n    'task': 'strategyqa',\n    'pe_technique': 'null-shot',\n    'current_index': 2290,\n    'is_processing': False,\n    'correct': 1416,\n    'total': 2290,\n    'accuracy': 61.83406113537118,\n    'created_at': '2023-11-21-18-53-09'}},\n  'winogrande': {'zero-shot': {'model': 'gpt-4-turbo',\n    'task': 'winogrande',\n    'pe_technique': 'zero-shot',\n    'current_index': 1267,\n    'is_processing': False,\n    'correct': 931,\n    'total': 1267,\n    'accuracy': 73.48066298342542,\n    'created_at': '2023-11-27-05-55-17'},\n   'null-shot-cot': {'model': 'gpt-4-turbo',\n    'task': 'winogrande',\n    'pe_technique': 'null-shot-cot',\n    'current_index': 1267,\n    'is_processing': False,\n    'correct': 821,\n    'total': 1267,\n    'accuracy': 64.79873717442779,\n    'created_at': '2023-11-27-08-35-58'},\n   'zero-shot-cot': {'model': 'gpt-4-turbo',\n    'task': 'winogrande',\n    'pe_technique': 'zero-shot-cot',\n    'current_index': 1267,\n    'is_processing': False,\n    'correct': 658,\n    'total': 1267,\n    'accuracy': 51.93370165745856,\n    'created_at': '2023-11-27-07-05-21'},\n   'null-shot': {'model': 'gpt-4-turbo',\n    'task': 'winogrande',\n    'pe_technique': 'null-shot',\n    'current_index': 1267,\n    'is_processing': False,\n    'correct': 707,\n    'total': 1267,\n    'accuracy': 55.80110497237569,\n    'created_at': '2023-11-27-06-23-34'}},\n  'wmt-en-ja': {'zero-shot': {'model': 'gpt-4-turbo',\n    'task': 'wmt-en-ja',\n    'pe_technique': 'zero-shot',\n    'current_index': 1000,\n    'is_processing': False,\n    'correct': 263,\n    'total': 1000,\n    'accuracy': 26.3,\n    'created_at': '2023-11-28-10-30-01'},\n   'null-shot-cot': {'model': 'gpt-4-turbo',\n    'task': 'wmt-en-ja',\n    'pe_technique': 'null-shot-cot',\n    'current_index': 1000,\n    'is_processing': False,\n    'correct': 0,\n    'total': 1000,\n    'accuracy': 0.0,\n    'created_at': '2023-11-28-14-15-38'},\n   'zero-shot-cot': {'model': 'gpt-4-turbo',\n    'task': 'wmt-en-ja',\n    'pe_technique': 'zero-shot-cot',\n    'current_index': 1000,\n    'is_processing': False,\n    'correct': 0,\n    'total': 1000,\n    'accuracy': 0.0,\n    'created_at': '2023-11-28-12-32-38'},\n   'null-shot': {'model': 'gpt-4-turbo',\n    'task': 'wmt-en-ja',\n    'pe_technique': 'null-shot',\n    'current_index': 1000,\n    'is_processing': False,\n    'correct': 84,\n    'total': 1000,\n    'accuracy': 8.4,\n    'created_at': '2023-11-28-10-58-57'}},\n  'aqua': {'zero-shot': {'model': 'gpt-4-turbo',\n    'task': 'aqua',\n    'pe_technique': 'zero-shot',\n    'current_index': 254,\n    'is_processing': False,\n    'correct': 196,\n    'total': 254,\n    'accuracy': 77.16535433070865,\n    'created_at': '2023-11-19-18-13-32'},\n   'null-shot-cot': {'model': 'gpt-4-turbo',\n    'task': 'aqua',\n    'pe_technique': 'null-shot-cot',\n    'current_index': 254,\n    'is_processing': False,\n    'correct': 195,\n    'total': 254,\n    'accuracy': 76.77165354330708,\n    'created_at': '2023-11-20-13-13-30'},\n   'zero-shot-cot': {'model': 'gpt-4-turbo',\n    'task': 'aqua',\n    'pe_technique': 'zero-shot-cot',\n    'current_index': 254,\n    'is_processing': False,\n    'correct': 192,\n    'total': 254,\n    'accuracy': 75.59055118110236,\n    'created_at': '2023-11-20-11-23-28'},\n   'null-shot': {'model': 'gpt-4-turbo',\n    'task': 'aqua',\n    'pe_technique': 'null-shot',\n    'current_index': 254,\n    'is_processing': False,\n    'correct': 192,\n    'total': 254,\n    'accuracy': 75.59055118110236,\n    'created_at': '2023-11-19-19-56-17'}},\n  'race-h': {'zero-shot': {'model': 'gpt-4-turbo',\n    'task': 'race-h',\n    'pe_technique': 'zero-shot',\n    'current_index': 3498,\n    'is_processing': False,\n    'correct': 3099,\n    'total': 3498,\n    'accuracy': 88.5934819897084,\n    'created_at': '2023-11-24-12-09-42'},\n   'null-shot-cot': {'model': 'gpt-4-turbo',\n    'task': 'race-h',\n    'pe_technique': 'null-shot-cot',\n    'current_index': 3498,\n    'is_processing': False,\n    'correct': 1969,\n    'total': 3498,\n    'accuracy': 56.289308176100626,\n    'created_at': '2023-11-25-09-51-29'},\n   'zero-shot-cot': {'model': 'gpt-4-turbo',\n    'task': 'race-h',\n    'pe_technique': 'zero-shot-cot',\n    'current_index': 3498,\n    'is_processing': False,\n    'correct': 2154,\n    'total': 3498,\n    'accuracy': 61.57804459691252,\n    'created_at': '2023-11-24-19-57-00'},\n   'null-shot': {'model': 'gpt-4-turbo',\n    'task': 'race-h',\n    'pe_technique': 'null-shot',\n    'current_index': 3498,\n    'is_processing': False,\n    'correct': 3112,\n    'total': 3498,\n    'accuracy': 88.96512292738707,\n    'created_at': '2023-11-24-14-10-53'}}},\n 'gpt-3.5-turbo': {'anli': {'zero-shot': {'model': 'gpt-3.5-turbo',\n    'task': 'anli',\n    'pe_technique': 'zero-shot',\n    'current_index': 1200,\n    'is_processing': False,\n    'correct': 581,\n    'total': 1200,\n    'accuracy': 48.41666666666667,\n    'created_at': '2023-11-26-03-53-38'},\n   'null-shot-cot': {'model': 'gpt-3.5-turbo',\n    'task': 'anli',\n    'pe_technique': 'null-shot-cot',\n    'current_index': 1200,\n    'is_processing': False,\n    'correct': 269,\n    'total': 1200,\n    'accuracy': 22.416666666666664,\n    'created_at': '2023-11-26-07-03-10'},\n   'zero-shot-cot': {'model': 'gpt-3.5-turbo',\n    'task': 'anli',\n    'pe_technique': 'zero-shot-cot',\n    'current_index': 1200,\n    'is_processing': False,\n    'correct': 507,\n    'total': 1200,\n    'accuracy': 42.25,\n    'created_at': '2023-11-26-05-55-36'},\n   'null-shot': {'model': 'gpt-3.5-turbo',\n    'task': 'anli',\n    'pe_technique': 'null-shot',\n    'current_index': 1200,\n    'is_processing': False,\n    'correct': 560,\n    'total': 1200,\n    'accuracy': 46.666666666666664,\n    'created_at': '2023-11-26-04-51-06'}},\n  'strategyqa': {'zero-shot': {'model': 'gpt-3.5-turbo',\n    'task': 'strategyqa',\n    'pe_technique': 'zero-shot',\n    'current_index': 2290,\n    'is_processing': False,\n    'correct': 1466,\n    'total': 2290,\n    'accuracy': 64.0174672489083,\n    'created_at': '2023-11-21-05-57-16'},\n   'null-shot-cot': {'model': 'gpt-3.5-turbo',\n    'task': 'strategyqa',\n    'pe_technique': 'null-shot-cot',\n    'current_index': 2290,\n    'is_processing': False,\n    'correct': 1314,\n    'total': 2290,\n    'accuracy': 57.37991266375546,\n    'created_at': '2023-11-21-12-00-33'},\n   'zero-shot-cot': {'model': 'gpt-3.5-turbo',\n    'task': 'strategyqa',\n    'pe_technique': 'zero-shot-cot',\n    'current_index': 2290,\n    'is_processing': False,\n    'correct': 1514,\n    'total': 2290,\n    'accuracy': 66.11353711790393,\n    'created_at': '2023-11-21-09-18-34'},\n   'null-shot': {'model': 'gpt-3.5-turbo',\n    'task': 'strategyqa',\n    'pe_technique': 'null-shot',\n    'current_index': 2290,\n    'is_processing': False,\n    'correct': 1512,\n    'total': 2290,\n    'accuracy': 66.02620087336246,\n    'created_at': '2023-11-21-07-33-37'}},\n  'winogrande': {'zero-shot': {'model': 'gpt-3.5-turbo',\n    'task': 'winogrande',\n    'pe_technique': 'zero-shot',\n    'current_index': 1267,\n    'is_processing': False,\n    'correct': 760,\n    'total': 1267,\n    'accuracy': 59.98421468034728,\n    'created_at': '2023-11-26-23-56-24'},\n   'null-shot-cot': {'model': 'gpt-3.5-turbo',\n    'task': 'winogrande',\n    'pe_technique': 'null-shot-cot',\n    'current_index': 1267,\n    'is_processing': False,\n    'correct': 577,\n    'total': 1267,\n    'accuracy': 45.54064719810576,\n    'created_at': '2023-11-27-04-48-38'},\n   'zero-shot-cot': {'model': 'gpt-3.5-turbo',\n    'task': 'winogrande',\n    'pe_technique': 'zero-shot-cot',\n    'current_index': 1267,\n    'is_processing': False,\n    'correct': 648,\n    'total': 1267,\n    'accuracy': 51.14443567482242,\n    'created_at': '2023-11-27-03-23-54'},\n   'null-shot': {'model': 'gpt-3.5-turbo',\n    'task': 'winogrande',\n    'pe_technique': 'null-shot',\n    'current_index': 1267,\n    'is_processing': False,\n    'correct': 746,\n    'total': 1267,\n    'accuracy': 58.879242304656664,\n    'created_at': '2023-11-27-01-58-04'}},\n  'wmt-en-ja': {'zero-shot': {'model': 'gpt-3.5-turbo',\n    'task': 'wmt-en-ja',\n    'pe_technique': 'zero-shot',\n    'current_index': 1000,\n    'is_processing': False,\n    'correct': 207,\n    'total': 1000,\n    'accuracy': 20.7,\n    'created_at': '2023-11-28-06-47-00'},\n   'null-shot-cot': {'model': 'gpt-3.5-turbo',\n    'task': 'wmt-en-ja',\n    'pe_technique': 'null-shot-cot',\n    'current_index': 1000,\n    'is_processing': False,\n    'correct': 6,\n    'total': 1000,\n    'accuracy': 0.6,\n    'created_at': '2023-11-28-09-28-51'},\n   'zero-shot-cot': {'model': 'gpt-3.5-turbo',\n    'task': 'wmt-en-ja',\n    'pe_technique': 'zero-shot-cot',\n    'current_index': 1000,\n    'is_processing': False,\n    'correct': 25,\n    'total': 1000,\n    'accuracy': 2.5,\n    'created_at': '2023-11-28-08-45-05'},\n   'null-shot': {'model': 'gpt-3.5-turbo',\n    'task': 'wmt-en-ja',\n    'pe_technique': 'null-shot',\n    'current_index': 1000,\n    'is_processing': False,\n    'correct': 238,\n    'total': 1000,\n    'accuracy': 23.799999999999997,\n    'created_at': '2023-11-28-07-39-19'}},\n  'aqua': {'zero-shot': {'model': 'gpt-3.5-turbo',\n    'task': 'aqua',\n    'pe_technique': 'zero-shot',\n    'current_index': 254,\n    'is_processing': False,\n    'correct': 109,\n    'total': 254,\n    'accuracy': 42.91338582677165,\n    'created_at': '2023-11-19-17-28-45'},\n   'null-shot-cot': {'model': 'gpt-3.5-turbo',\n    'task': 'aqua',\n    'pe_technique': 'null-shot-cot',\n    'current_index': 254,\n    'is_processing': False,\n    'correct': 141,\n    'total': 254,\n    'accuracy': 55.51181102362205,\n    'created_at': '2023-11-20-10-54-14'},\n   'zero-shot-cot': {'model': 'gpt-3.5-turbo',\n    'task': 'aqua',\n    'pe_technique': 'zero-shot-cot',\n    'current_index': 254,\n    'is_processing': False,\n    'correct': 146,\n    'total': 254,\n    'accuracy': 57.48031496062992,\n    'created_at': '2023-11-20-10-28-55'},\n   'null-shot': {'model': 'gpt-3.5-turbo',\n    'task': 'aqua',\n    'pe_technique': 'null-shot',\n    'current_index': 254,\n    'is_processing': False,\n    'correct': 146,\n    'total': 254,\n    'accuracy': 57.48031496062992,\n    'created_at': '2023-11-19-17-53-24'}},\n  'race-h': {'zero-shot': {'model': 'gpt-3.5-turbo',\n    'task': 'race-h',\n    'pe_technique': 'zero-shot',\n    'current_index': 3498,\n    'is_processing': False,\n    'correct': 2859,\n    'total': 3498,\n    'accuracy': 81.73241852487135,\n    'created_at': '2023-11-23-14-21-54'},\n   'null-shot-cot': {'model': 'gpt-3.5-turbo',\n    'task': 'race-h',\n    'pe_technique': 'null-shot-cot',\n    'current_index': 3498,\n    'is_processing': False,\n    'correct': 2721,\n    'total': 3498,\n    'accuracy': 77.78730703259005,\n    'created_at': '2023-11-24-08-07-07'},\n   'zero-shot-cot': {'model': 'gpt-3.5-turbo',\n    'task': 'race-h',\n    'pe_technique': 'zero-shot-cot',\n    'current_index': 3498,\n    'is_processing': False,\n    'correct': 2717,\n    'total': 3498,\n    'accuracy': 77.67295597484278,\n    'created_at': '2023-11-24-04-44-30'},\n   'null-shot': {'model': 'gpt-3.5-turbo',\n    'task': 'race-h',\n    'pe_technique': 'null-shot',\n    'current_index': 3498,\n    'is_processing': False,\n    'correct': 2825,\n    'total': 3498,\n    'accuracy': 80.76043453401944,\n    'created_at': '2023-11-23-23-55-04'}}}}"
     },
     "execution_count": 5,
     "metadata": {},
     "output_type": "execute_result"
    }
   ],
   "source": [
    "result_summary"
   ],
   "metadata": {
    "collapsed": false,
    "ExecuteTime": {
     "end_time": "2023-11-28T13:10:57.142419Z",
     "start_time": "2023-11-28T13:10:57.128538Z"
    }
   },
   "id": "b609aa11f3573016"
  },
  {
   "cell_type": "code",
   "execution_count": 6,
   "outputs": [],
   "source": [
    "for model in result_summary.keys():\n",
    "    for task in result_summary[model].keys():\n",
    "        for pe in result_summary[model][task].keys():\n",
    "            lengths = []\n",
    "            time_takens = []\n",
    "            files = [file for file in os.listdir(result_path / model / task / pe) if file != summary_file_name and file != \".DS_Store\"]\n",
    "            for file in files:\n",
    "                with open(Path(result_path) / model / task / pe / file) as f:\n",
    "                    data = json.load(f)\n",
    "                    lengths.append(data[\"length\"])\n",
    "                    time_takens.append(data[\"time_taken\"])\n",
    "            mean_length = sum(lengths) / len(lengths)\n",
    "            mean_time_taken = sum(time_takens) / len(time_takens)\n",
    "            std_length = (sum([(length - mean_length) ** 2 for length in lengths]) / len(lengths)) ** 0.5\n",
    "            std_time_taken = (sum([(time_taken - mean_time_taken) ** 2 for time_taken in time_takens]) / len(time_takens)) ** 0.5\n",
    "            min_length = min(lengths)\n",
    "            min_time_taken = min(time_takens)\n",
    "            max_length = max(lengths)\n",
    "            max_time_taken = max(time_takens)\n",
    "            median_length = sorted(lengths)[len(lengths) // 2]\n",
    "            median_time_taken = sorted(time_takens)[len(time_takens) // 2]\n",
    "            total_time_taken = sum(time_takens)\n",
    "            result_summary[model][task][pe][\"mean_length\"] = mean_length\n",
    "            result_summary[model][task][pe][\"median_length\"] = median_length\n",
    "            result_summary[model][task][pe][\"std_length\"] = std_length\n",
    "            result_summary[model][task][pe][\"min_length\"] = min_length\n",
    "            result_summary[model][task][pe][\"max_length\"] = max_length\n",
    "            result_summary[model][task][pe][\"mean_time_taken\"] = mean_time_taken\n",
    "            result_summary[model][task][pe][\"median_time_taken\"] = median_time_taken\n",
    "            result_summary[model][task][pe][\"std_time_taken\"] = std_time_taken\n",
    "            result_summary[model][task][pe][\"min_time_taken\"] = min_time_taken\n",
    "            result_summary[model][task][pe][\"max_time_taken\"] = max_time_taken\n",
    "            result_summary[model][task][pe][\"total_time_taken\"] = total_time_taken            "
   ],
   "metadata": {
    "collapsed": false,
    "ExecuteTime": {
     "end_time": "2023-11-28T13:11:11.811240Z",
     "start_time": "2023-11-28T13:10:57.136549Z"
    }
   },
   "id": "df8fbe3c9e0498d8"
  },
  {
   "cell_type": "code",
   "execution_count": 7,
   "outputs": [],
   "source": [
    "df = pd.DataFrame.from_dict({(i, j, k): result_summary[i][j][k]\n",
    "                             for i in result_summary.keys()\n",
    "                             for j in result_summary[i].keys()\n",
    "                             for k in result_summary[i][j].keys()},\n",
    "                            orient='index')"
   ],
   "metadata": {
    "collapsed": false,
    "ExecuteTime": {
     "end_time": "2023-11-28T13:11:11.822519Z",
     "start_time": "2023-11-28T13:11:11.814474Z"
    }
   },
   "id": "db74d1b09a767e34"
  },
  {
   "cell_type": "code",
   "execution_count": 8,
   "outputs": [],
   "source": [
    "df = df.drop(columns=[\"current_index\", \"is_processing\"])"
   ],
   "metadata": {
    "collapsed": false,
    "ExecuteTime": {
     "end_time": "2023-11-28T13:11:11.822763Z",
     "start_time": "2023-11-28T13:11:11.820050Z"
    }
   },
   "id": "7cfec5ab0083a149"
  },
  {
   "cell_type": "code",
   "execution_count": 9,
   "outputs": [
    {
     "data": {
      "text/plain": "                                                model        task  \\\npalm-2-chat   anli       zero-shot        palm-2-chat        anli   \n                         null-shot-cot    palm-2-chat        anli   \n                         zero-shot-cot    palm-2-chat        anli   \n                         null-shot        palm-2-chat        anli   \n              strategyqa zero-shot        palm-2-chat  strategyqa   \n...                                               ...         ...   \ngpt-3.5-turbo aqua       null-shot      gpt-3.5-turbo        aqua   \n              race-h     zero-shot      gpt-3.5-turbo      race-h   \n                         null-shot-cot  gpt-3.5-turbo      race-h   \n                         zero-shot-cot  gpt-3.5-turbo      race-h   \n                         null-shot      gpt-3.5-turbo      race-h   \n\n                                         pe_technique  correct  total  \\\npalm-2-chat   anli       zero-shot          zero-shot      484   1200   \n                         null-shot-cot  null-shot-cot      379   1200   \n                         zero-shot-cot  zero-shot-cot      265   1200   \n                         null-shot          null-shot      492   1200   \n              strategyqa zero-shot          zero-shot     1300   2290   \n...                                               ...      ...    ...   \ngpt-3.5-turbo aqua       null-shot          null-shot      146    254   \n              race-h     zero-shot          zero-shot     2859   3498   \n                         null-shot-cot  null-shot-cot     2721   3498   \n                         zero-shot-cot  zero-shot-cot     2717   3498   \n                         null-shot          null-shot     2825   3498   \n\n                                         accuracy           created_at  \\\npalm-2-chat   anli       zero-shot      40.333333  2023-11-25-22-02-34   \n                         null-shot-cot  31.583333  2023-11-26-02-08-54   \n                         zero-shot-cot  22.083333  2023-11-26-00-44-52   \n                         null-shot      41.000000  2023-11-25-23-20-14   \n              strategyqa zero-shot      56.768559  2023-11-20-18-25-26   \n...                                           ...                  ...   \ngpt-3.5-turbo aqua       null-shot      57.480315  2023-11-19-17-53-24   \n              race-h     zero-shot      81.732419  2023-11-23-14-21-54   \n                         null-shot-cot  77.787307  2023-11-24-08-07-07   \n                         zero-shot-cot  77.672956  2023-11-24-04-44-30   \n                         null-shot      80.760435  2023-11-23-23-55-04   \n\n                                        mean_length  median_length  \\\npalm-2-chat   anli       zero-shot       940.503333            893   \n                         null-shot-cot  1287.180833           1200   \n                         zero-shot-cot  1037.376667            977   \n                         null-shot      1038.062500            965   \n              strategyqa zero-shot       877.141921            851   \n...                                             ...            ...   \ngpt-3.5-turbo aqua       null-shot       598.035433            536   \n              race-h     zero-shot        52.949400             40   \n                         null-shot-cot   298.867639            310   \n                         zero-shot-cot   419.522584            367   \n                         null-shot        83.260720             44   \n\n                                        std_length  min_length  max_length  \\\npalm-2-chat   anli       zero-shot      364.215984           0        3673   \n                         null-shot-cot  494.813151           0        4658   \n                         zero-shot-cot  375.734924           0        3745   \n                         null-shot      424.794947           0        4658   \n              strategyqa zero-shot      580.694012           0        5509   \n...                                            ...         ...         ...   \ngpt-3.5-turbo aqua       null-shot      324.038400          65        3089   \n              race-h     zero-shot       65.798213           4         757   \n                         null-shot-cot  209.438114           6        1200   \n                         zero-shot-cot  224.473467          25        1741   \n                         null-shot      111.424351           4         857   \n\n                                        mean_time_taken  median_time_taken  \\\npalm-2-chat   anli       zero-shot             3.856965           3.707466   \n                         null-shot-cot         5.207829           4.887037   \n                         zero-shot-cot         4.174589           3.947784   \n                         null-shot             4.202485           3.980942   \n              strategyqa zero-shot             3.998529           3.920292   \n...                                                 ...                ...   \ngpt-3.5-turbo aqua       null-shot             4.753517           3.068605   \n              race-h     zero-shot             9.790386           2.087157   \n                         null-shot-cot         4.123458           1.822110   \n                         zero-shot-cot         3.448154           1.969786   \n                         null-shot             4.916380           1.700208   \n\n                                        std_time_taken  min_time_taken  \\\npalm-2-chat   anli       zero-shot            1.160879        1.379333   \n                         null-shot-cot        1.767292        2.317173   \n                         zero-shot-cot        1.317973        1.929132   \n                         null-shot            1.371685        1.479593   \n              strategyqa zero-shot            2.014284        0.932739   \n...                                                ...             ...   \ngpt-3.5-turbo aqua       null-shot            6.277320        0.714915   \n              race-h     zero-shot           17.837349        0.350905   \n                         null-shot-cot        8.958712        0.301682   \n                         zero-shot-cot        6.890552        0.419034   \n                         null-shot           10.119005        0.334305   \n\n                                        max_time_taken  total_time_taken  \npalm-2-chat   anli       zero-shot           12.517058       4628.357446  \n                         null-shot-cot       18.855802       6249.395060  \n                         zero-shot-cot       19.959722       5009.506384  \n                         null-shot           16.875456       5042.981712  \n              strategyqa zero-shot           17.352368       9156.631403  \n...                                                ...               ...  \ngpt-3.5-turbo aqua       null-shot           38.513451       1207.393396  \n              race-h     zero-shot          126.675476      34246.771760  \n                         null-shot-cot      101.866020      14423.855697  \n                         zero-shot-cot      125.843588      12061.642372  \n                         null-shot           99.133077      17197.498657  \n\n[104 rows x 18 columns]",
      "text/html": "<div>\n<style scoped>\n    .dataframe tbody tr th:only-of-type {\n        vertical-align: middle;\n    }\n\n    .dataframe tbody tr th {\n        vertical-align: top;\n    }\n\n    .dataframe thead th {\n        text-align: right;\n    }\n</style>\n<table border=\"1\" class=\"dataframe\">\n  <thead>\n    <tr style=\"text-align: right;\">\n      <th></th>\n      <th></th>\n      <th></th>\n      <th>model</th>\n      <th>task</th>\n      <th>pe_technique</th>\n      <th>correct</th>\n      <th>total</th>\n      <th>accuracy</th>\n      <th>created_at</th>\n      <th>mean_length</th>\n      <th>median_length</th>\n      <th>std_length</th>\n      <th>min_length</th>\n      <th>max_length</th>\n      <th>mean_time_taken</th>\n      <th>median_time_taken</th>\n      <th>std_time_taken</th>\n      <th>min_time_taken</th>\n      <th>max_time_taken</th>\n      <th>total_time_taken</th>\n    </tr>\n  </thead>\n  <tbody>\n    <tr>\n      <th rowspan=\"5\" valign=\"top\">palm-2-chat</th>\n      <th rowspan=\"4\" valign=\"top\">anli</th>\n      <th>zero-shot</th>\n      <td>palm-2-chat</td>\n      <td>anli</td>\n      <td>zero-shot</td>\n      <td>484</td>\n      <td>1200</td>\n      <td>40.333333</td>\n      <td>2023-11-25-22-02-34</td>\n      <td>940.503333</td>\n      <td>893</td>\n      <td>364.215984</td>\n      <td>0</td>\n      <td>3673</td>\n      <td>3.856965</td>\n      <td>3.707466</td>\n      <td>1.160879</td>\n      <td>1.379333</td>\n      <td>12.517058</td>\n      <td>4628.357446</td>\n    </tr>\n    <tr>\n      <th>null-shot-cot</th>\n      <td>palm-2-chat</td>\n      <td>anli</td>\n      <td>null-shot-cot</td>\n      <td>379</td>\n      <td>1200</td>\n      <td>31.583333</td>\n      <td>2023-11-26-02-08-54</td>\n      <td>1287.180833</td>\n      <td>1200</td>\n      <td>494.813151</td>\n      <td>0</td>\n      <td>4658</td>\n      <td>5.207829</td>\n      <td>4.887037</td>\n      <td>1.767292</td>\n      <td>2.317173</td>\n      <td>18.855802</td>\n      <td>6249.395060</td>\n    </tr>\n    <tr>\n      <th>zero-shot-cot</th>\n      <td>palm-2-chat</td>\n      <td>anli</td>\n      <td>zero-shot-cot</td>\n      <td>265</td>\n      <td>1200</td>\n      <td>22.083333</td>\n      <td>2023-11-26-00-44-52</td>\n      <td>1037.376667</td>\n      <td>977</td>\n      <td>375.734924</td>\n      <td>0</td>\n      <td>3745</td>\n      <td>4.174589</td>\n      <td>3.947784</td>\n      <td>1.317973</td>\n      <td>1.929132</td>\n      <td>19.959722</td>\n      <td>5009.506384</td>\n    </tr>\n    <tr>\n      <th>null-shot</th>\n      <td>palm-2-chat</td>\n      <td>anli</td>\n      <td>null-shot</td>\n      <td>492</td>\n      <td>1200</td>\n      <td>41.000000</td>\n      <td>2023-11-25-23-20-14</td>\n      <td>1038.062500</td>\n      <td>965</td>\n      <td>424.794947</td>\n      <td>0</td>\n      <td>4658</td>\n      <td>4.202485</td>\n      <td>3.980942</td>\n      <td>1.371685</td>\n      <td>1.479593</td>\n      <td>16.875456</td>\n      <td>5042.981712</td>\n    </tr>\n    <tr>\n      <th>strategyqa</th>\n      <th>zero-shot</th>\n      <td>palm-2-chat</td>\n      <td>strategyqa</td>\n      <td>zero-shot</td>\n      <td>1300</td>\n      <td>2290</td>\n      <td>56.768559</td>\n      <td>2023-11-20-18-25-26</td>\n      <td>877.141921</td>\n      <td>851</td>\n      <td>580.694012</td>\n      <td>0</td>\n      <td>5509</td>\n      <td>3.998529</td>\n      <td>3.920292</td>\n      <td>2.014284</td>\n      <td>0.932739</td>\n      <td>17.352368</td>\n      <td>9156.631403</td>\n    </tr>\n    <tr>\n      <th>...</th>\n      <th>...</th>\n      <th>...</th>\n      <td>...</td>\n      <td>...</td>\n      <td>...</td>\n      <td>...</td>\n      <td>...</td>\n      <td>...</td>\n      <td>...</td>\n      <td>...</td>\n      <td>...</td>\n      <td>...</td>\n      <td>...</td>\n      <td>...</td>\n      <td>...</td>\n      <td>...</td>\n      <td>...</td>\n      <td>...</td>\n      <td>...</td>\n      <td>...</td>\n    </tr>\n    <tr>\n      <th rowspan=\"5\" valign=\"top\">gpt-3.5-turbo</th>\n      <th>aqua</th>\n      <th>null-shot</th>\n      <td>gpt-3.5-turbo</td>\n      <td>aqua</td>\n      <td>null-shot</td>\n      <td>146</td>\n      <td>254</td>\n      <td>57.480315</td>\n      <td>2023-11-19-17-53-24</td>\n      <td>598.035433</td>\n      <td>536</td>\n      <td>324.038400</td>\n      <td>65</td>\n      <td>3089</td>\n      <td>4.753517</td>\n      <td>3.068605</td>\n      <td>6.277320</td>\n      <td>0.714915</td>\n      <td>38.513451</td>\n      <td>1207.393396</td>\n    </tr>\n    <tr>\n      <th rowspan=\"4\" valign=\"top\">race-h</th>\n      <th>zero-shot</th>\n      <td>gpt-3.5-turbo</td>\n      <td>race-h</td>\n      <td>zero-shot</td>\n      <td>2859</td>\n      <td>3498</td>\n      <td>81.732419</td>\n      <td>2023-11-23-14-21-54</td>\n      <td>52.949400</td>\n      <td>40</td>\n      <td>65.798213</td>\n      <td>4</td>\n      <td>757</td>\n      <td>9.790386</td>\n      <td>2.087157</td>\n      <td>17.837349</td>\n      <td>0.350905</td>\n      <td>126.675476</td>\n      <td>34246.771760</td>\n    </tr>\n    <tr>\n      <th>null-shot-cot</th>\n      <td>gpt-3.5-turbo</td>\n      <td>race-h</td>\n      <td>null-shot-cot</td>\n      <td>2721</td>\n      <td>3498</td>\n      <td>77.787307</td>\n      <td>2023-11-24-08-07-07</td>\n      <td>298.867639</td>\n      <td>310</td>\n      <td>209.438114</td>\n      <td>6</td>\n      <td>1200</td>\n      <td>4.123458</td>\n      <td>1.822110</td>\n      <td>8.958712</td>\n      <td>0.301682</td>\n      <td>101.866020</td>\n      <td>14423.855697</td>\n    </tr>\n    <tr>\n      <th>zero-shot-cot</th>\n      <td>gpt-3.5-turbo</td>\n      <td>race-h</td>\n      <td>zero-shot-cot</td>\n      <td>2717</td>\n      <td>3498</td>\n      <td>77.672956</td>\n      <td>2023-11-24-04-44-30</td>\n      <td>419.522584</td>\n      <td>367</td>\n      <td>224.473467</td>\n      <td>25</td>\n      <td>1741</td>\n      <td>3.448154</td>\n      <td>1.969786</td>\n      <td>6.890552</td>\n      <td>0.419034</td>\n      <td>125.843588</td>\n      <td>12061.642372</td>\n    </tr>\n    <tr>\n      <th>null-shot</th>\n      <td>gpt-3.5-turbo</td>\n      <td>race-h</td>\n      <td>null-shot</td>\n      <td>2825</td>\n      <td>3498</td>\n      <td>80.760435</td>\n      <td>2023-11-23-23-55-04</td>\n      <td>83.260720</td>\n      <td>44</td>\n      <td>111.424351</td>\n      <td>4</td>\n      <td>857</td>\n      <td>4.916380</td>\n      <td>1.700208</td>\n      <td>10.119005</td>\n      <td>0.334305</td>\n      <td>99.133077</td>\n      <td>17197.498657</td>\n    </tr>\n  </tbody>\n</table>\n<p>104 rows × 18 columns</p>\n</div>"
     },
     "execution_count": 9,
     "metadata": {},
     "output_type": "execute_result"
    }
   ],
   "source": [
    "df"
   ],
   "metadata": {
    "collapsed": false,
    "ExecuteTime": {
     "end_time": "2023-11-28T13:11:11.844638Z",
     "start_time": "2023-11-28T13:11:11.825022Z"
    }
   },
   "id": "52332bcea72e2f8a"
  },
  {
   "cell_type": "code",
   "execution_count": 10,
   "outputs": [],
   "source": [
    "df.to_csv(\"summary.csv\")"
   ],
   "metadata": {
    "collapsed": false,
    "ExecuteTime": {
     "end_time": "2023-11-28T13:11:11.844929Z",
     "start_time": "2023-11-28T13:11:11.833196Z"
    }
   },
   "id": "f0ac4f89df21a3d0"
  }
 ],
 "metadata": {
  "kernelspec": {
   "display_name": "Python 3",
   "language": "python",
   "name": "python3"
  },
  "language_info": {
   "codemirror_mode": {
    "name": "ipython",
    "version": 2
   },
   "file_extension": ".py",
   "mimetype": "text/x-python",
   "name": "python",
   "nbconvert_exporter": "python",
   "pygments_lexer": "ipython2",
   "version": "2.7.6"
  }
 },
 "nbformat": 4,
 "nbformat_minor": 5
}
